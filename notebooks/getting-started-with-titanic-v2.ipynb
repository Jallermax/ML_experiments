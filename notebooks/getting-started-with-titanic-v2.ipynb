{
 "metadata": {
  "kernelspec": {
   "name": "pycharm-fa55fe5c",
   "language": "python",
   "display_name": "PyCharm (scientificProject)"
  },
  "language_info": {
   "name": "python",
   "version": "3.7.10",
   "mimetype": "text/x-python",
   "codemirror_mode": {
    "name": "ipython",
    "version": 3
   },
   "pygments_lexer": "ipython3",
   "nbconvert_exporter": "python",
   "file_extension": ".py"
  }
 },
 "nbformat_minor": 4,
 "nbformat": 4,
 "cells": [
  {
   "cell_type": "code",
   "source": [
    "# This Python 3 environment comes with many helpful analytics libraries installed\n",
    "# It is defined by the kaggle/python Docker image: https://github.com/kaggle/docker-python\n",
    "# For example, here's several helpful packages to load\n",
    "import numpy as np # linear algebra\n",
    "import pandas as pd # data processing, CSV file I/O (e.g. pd.read_csv)\n",
    "import matplotlib.pyplot as plt\n",
    "\n",
    "# Input data files are available in the read-only \"../input/\" directory\n",
    "# For example, running this (by clicking run or pressing Shift+Enter) will list all files under the input directory\n",
    "\n",
    "import os\n",
    "\n",
    "for dirname, _, filenames in os.walk('../data/kaggle/input'):\n",
    "    for filename in filenames:\n",
    "        print(os.path.join(dirname, filename))\n",
    "\n",
    "# You can write up to 20GB to the current directory (/kaggle/working/) that gets preserved as output when you create a version using \"Save & Run All\" \n",
    "# You can also write temporary files to /kaggle/temp/, but they won't be saved outside of the current session"
   ],
   "metadata": {
    "_uuid": "8f2839f25d086af736a60e9eeb907d3b93b6e0e5",
    "_cell_guid": "b1076dfc-b9ad-4769-8c92-a6c4dae69d19",
    "execution": {
     "iopub.status.busy": "2021-06-22T04:10:13.860334Z",
     "iopub.execute_input": "2021-06-22T04:10:13.861288Z",
     "iopub.status.idle": "2021-06-22T04:10:13.877526Z",
     "shell.execute_reply.started": "2021-06-22T04:10:13.861133Z",
     "shell.execute_reply": "2021-06-22T04:10:13.876276Z"
    },
    "trusted": true
   },
   "execution_count": 1,
   "outputs": [
    {
     "name": "stdout",
     "output_type": "stream",
     "text": [
      "../data/kaggle/input/.DS_Store\n",
      "../data/kaggle/input/titanic/my_submission.csv\n",
      "../data/kaggle/input/titanic/test.csv\n",
      "../data/kaggle/input/titanic/train.csv\n"
     ]
    }
   ]
  },
  {
   "cell_type": "code",
   "execution_count": 2,
   "outputs": [],
   "source": [
    "def squash_dummies(df: pd.DataFrame, feature, threshold):\n",
    "    masked_df = df[feature].mask(df[feature] > threshold)\n",
    "    df = df.drop(columns=[feature])\n",
    "    df[feature] = masked_df\n",
    "    return df\n",
    "\n",
    "def prepare_df(df: pd.DataFrame):\n",
    "    new_df = df\n",
    "    extract_title_from_name(new_df)\n",
    "    _dummy_features0 = [\"Embarked\"]\n",
    "    _dummy_features = [\"Pclass\", \"Sex\", \"SibSp\", \"Parch\", \"Title\"]\n",
    "    new_df = squash_dummies(new_df, 'Parch', 2)\n",
    "    new_df = squash_dummies(new_df, 'SibSp', 4)\n",
    "    new_df = new_df.drop(columns=['Name'])\n",
    "    new_df = pd.get_dummies(new_df, columns=_dummy_features0, dummy_na=True)\n",
    "    return pd.get_dummies(new_df, columns=_dummy_features, dummy_na=False)\n",
    "\n",
    "def extract_title_from_name(df: pd.DataFrame):\n",
    "    df['Title'] = list(zip(df.Sex, df.Name, df.SibSp))\n",
    "    df['Title'] = df['Title'].transform(lambda n: extract_title(n))\n",
    "    print(df['Title'].unique())\n",
    "\n",
    "def extract_title(name):\n",
    "    male = name[0] == 'male'\n",
    "    if male and str(name[1]).find('Mr') > -1:\n",
    "        return 'Mr'\n",
    "    if not male and str(name[1]).find('Mrs') > -1:\n",
    "        return 'Mrs'\n",
    "    if not male and str(name[1]).find('Miss') > -1:\n",
    "        return 'Miss'\n",
    "    if not male and str(name[1]).find('Mme') > -1:\n",
    "        return 'Ms'\n",
    "    if male and str(name[1]).find('Master') > -1:\n",
    "        return 'Master'\n",
    "    if str(name[1]).find('Dr.') > -1:\n",
    "        return 'Dr'\n",
    "    if male:\n",
    "        return 'Mr'\n",
    "    if name[2]>1:\n",
    "        return'Mrs'\n",
    "    # print(name)\n",
    "    return 'Ms'"
   ],
   "metadata": {
    "collapsed": false,
    "pycharm": {
     "name": "#%% PREPARE DATA\n"
    }
   }
  },
  {
   "cell_type": "code",
   "execution_count": 3,
   "outputs": [
    {
     "name": "stdout",
     "output_type": "stream",
     "text": [
      "   PassengerId  Survived  Pclass  \\\n",
      "0            1         0       3   \n",
      "1            2         1       1   \n",
      "2            3         1       3   \n",
      "3            4         1       1   \n",
      "4            5         0       3   \n",
      "\n",
      "                                                Name     Sex   Age  SibSp  \\\n",
      "0                            Braund, Mr. Owen Harris    male  22.0      1   \n",
      "1  Cumings, Mrs. John Bradley (Florence Briggs Th...  female  38.0      1   \n",
      "2                             Heikkinen, Miss. Laina  female  26.0      0   \n",
      "3       Futrelle, Mrs. Jacques Heath (Lily May Peel)  female  35.0      1   \n",
      "4                           Allen, Mr. William Henry    male  35.0      0   \n",
      "\n",
      "   Parch            Ticket     Fare Cabin Embarked  \n",
      "0      0         A/5 21171   7.2500   NaN        S  \n",
      "1      0          PC 17599  71.2833   C85        C  \n",
      "2      0  STON/O2. 3101282   7.9250   NaN        S  \n",
      "3      0            113803  53.1000  C123        S  \n",
      "4      0            373450   8.0500   NaN        S  \n",
      "       PassengerId    Survived      Pclass         Age       SibSp  \\\n",
      "count   891.000000  891.000000  891.000000  714.000000  891.000000   \n",
      "mean    446.000000    0.383838    2.308642   29.699118    0.523008   \n",
      "std     257.353842    0.486592    0.836071   14.526497    1.102743   \n",
      "min       1.000000    0.000000    1.000000    0.420000    0.000000   \n",
      "25%     223.500000    0.000000    2.000000   20.125000    0.000000   \n",
      "50%     446.000000    0.000000    3.000000   28.000000    0.000000   \n",
      "75%     668.500000    1.000000    3.000000   38.000000    1.000000   \n",
      "max     891.000000    1.000000    3.000000   80.000000    8.000000   \n",
      "\n",
      "            Parch        Fare  \n",
      "count  891.000000  891.000000  \n",
      "mean     0.381594   32.204208  \n",
      "std      0.806057   49.693429  \n",
      "min      0.000000    0.000000  \n",
      "25%      0.000000    7.910400  \n",
      "50%      0.000000   14.454200  \n",
      "75%      0.000000   31.000000  \n",
      "max      6.000000  512.329200  \n"
     ]
    }
   ],
   "source": [
    "train_data = pd.read_csv('../data/kaggle/input/titanic/train.csv')\n",
    "print(train_data.head())\n",
    "\n",
    "print(train_data.describe())\n",
    "# train_data.groupby('Embarked').hist()\n",
    "# train_data.groupby('Cabin').sum().head(50)"
   ],
   "metadata": {
    "collapsed": false,
    "pycharm": {
     "name": "#%% EDA\n"
    }
   }
  },
  {
   "cell_type": "code",
   "execution_count": 4,
   "outputs": [
    {
     "name": "stdout",
     "output_type": "stream",
     "text": [
      "Index(['PassengerId', 'Pclass', 'Name', 'Sex', 'Age', 'SibSp', 'Parch',\n",
      "       'Ticket', 'Fare', 'Cabin', 'Embarked'],\n",
      "      dtype='object')\n",
      "   PassengerId  Pclass                                          Name     Sex  \\\n",
      "0          892       3                              Kelly, Mr. James    male   \n",
      "1          893       3              Wilkes, Mrs. James (Ellen Needs)  female   \n",
      "2          894       2                     Myles, Mr. Thomas Francis    male   \n",
      "3          895       3                              Wirz, Mr. Albert    male   \n",
      "4          896       3  Hirvonen, Mrs. Alexander (Helga E Lindqvist)  female   \n",
      "\n",
      "    Age  SibSp  Parch   Ticket     Fare Cabin Embarked  \n",
      "0  34.5      0      0   330911   7.8292   NaN        Q  \n",
      "1  47.0      1      0   363272   7.0000   NaN        S  \n",
      "2  62.0      0      0   240276   9.6875   NaN        Q  \n",
      "3  27.0      0      0   315154   8.6625   NaN        S  \n",
      "4  22.0      1      1  3101298  12.2875   NaN        S  \n",
      "       PassengerId      Pclass         Age       SibSp       Parch        Fare\n",
      "count   418.000000  418.000000  332.000000  418.000000  418.000000  417.000000\n",
      "mean   1100.500000    2.265550   30.272590    0.447368    0.392344   35.627188\n",
      "std     120.810458    0.841838   14.181209    0.896760    0.981429   55.907576\n",
      "min     892.000000    1.000000    0.170000    0.000000    0.000000    0.000000\n",
      "25%     996.250000    1.000000   21.000000    0.000000    0.000000    7.895800\n",
      "50%    1100.500000    3.000000   27.000000    0.000000    0.000000   14.454200\n",
      "75%    1204.750000    3.000000   39.000000    1.000000    0.000000   31.500000\n",
      "max    1309.000000    3.000000   76.000000    8.000000    9.000000  512.329200\n"
     ]
    }
   ],
   "source": [
    "test_data = pd.read_csv('../data/kaggle/input/titanic/test.csv')\n",
    "print(test_data.columns)\n",
    "print(test_data.head())\n",
    "print(test_data.describe())"
   ],
   "metadata": {
    "collapsed": false,
    "pycharm": {
     "name": "#%%\n"
    }
   }
  },
  {
   "cell_type": "code",
   "execution_count": 5,
   "outputs": [],
   "source": [
    "def plot_rate(df: pd.DataFrame, feature):\n",
    "    m_df = df\n",
    "    m_df['cnt'] = 1\n",
    "    m_gb = m_df.groupby(feature).sum()\n",
    "    m_gb['rate'] = m_gb['Survived']/m_gb['cnt']\n",
    "    # m_gb[['rate']].plot()\n",
    "    # plt.scatter(m_gb)\n",
    "    # plt.show()\n",
    "    print(m_gb[['rate']].head())"
   ],
   "metadata": {
    "collapsed": false,
    "pycharm": {
     "name": "#%%\n"
    }
   }
  },
  {
   "cell_type": "code",
   "execution_count": 6,
   "outputs": [
    {
     "name": "stdout",
     "output_type": "stream",
     "text": [
      "['Mr' 'Mrs' 'Miss' 'Master' 'Dr' 'Ms']\n",
      "Columns: Index(['PassengerId', 'Survived', 'Pclass', 'Name', 'Sex', 'Age', 'SibSp',\n",
      "       'Parch', 'Ticket', 'Fare', 'Cabin', 'Embarked', 'Title'],\n",
      "      dtype='object')\n",
      "            rate\n",
      "Pclass          \n",
      "1       0.421053\n",
      "2       0.314079\n",
      "3       0.167842\n",
      "            rate\n",
      "Title           \n",
      "Dr      0.375000\n",
      "Master  0.377049\n",
      "Miss    0.488372\n",
      "Mr      0.108387\n",
      "Mrs     0.507463\n",
      "          rate\n",
      "Sex           \n",
      "female  0.5000\n",
      "male    0.1293\n",
      "           rate\n",
      "SibSp          \n",
      "0      0.235690\n",
      "1      0.351097\n",
      "2      0.309524\n",
      "3      0.200000\n",
      "4      0.136364\n",
      "           rate\n",
      "Parch          \n",
      "0      0.232535\n",
      "1      0.382353\n",
      "2      0.353982\n",
      "3      0.375000\n",
      "4      0.000000\n",
      "              rate\n",
      "Embarked          \n",
      "C         0.344444\n",
      "Q         0.243902\n",
      "S         0.237418\n"
     ]
    }
   ],
   "source": [
    "all_data = pd.concat([train_data, test_data], axis=0)\n",
    "extract_title_from_name(all_data)\n",
    "print(f\"Columns: {all_data.columns}\")\n",
    "\n",
    "eda_features = [\"Pclass\", \"Title\", \"Sex\", \"SibSp\", \"Parch\", \"Embarked\"]\n",
    "for k in eda_features:\n",
    "    plot_rate(all_data, k)\n",
    "    # print(f\"Unique {k}: {train_data[k].unique()}\")\n",
    "# plot_rate(all_data, eda_features[0])\n"
   ],
   "metadata": {
    "collapsed": false,
    "pycharm": {
     "name": "#%%\n"
    }
   }
  },
  {
   "cell_type": "code",
   "execution_count": 48,
   "outputs": [],
   "source": [
    "from sklearn.metrics import mean_squared_error\n",
    "from sklearn.model_selection import cross_val_score\n",
    "\n",
    "def eval_msu(x_train, x_eval, y_train, y_eval, _model):\n",
    "    _model.fit(x_train, train_y)\n",
    "    eval_predictions = _model.predict(x_eval)\n",
    "    msu = mean_squared_error(y_eval, eval_predictions)\n",
    "    train_predictions = _model.predict(x_train)\n",
    "    train_msu = mean_squared_error(y_train, train_predictions)\n",
    "    return msu, train_msu\n",
    "\n",
    "def print_msu(x_train, x_eval, y_train, y_eval, _model):\n",
    "    msu, train_msu = eval_msu(x_train, x_eval, y_train, y_eval, _model)\n",
    "    print(f\"e_msu={msu:.7f}; t_msu={train_msu:.7f}; model={_model}\")\n",
    "\n",
    "def print_cvs(_model, x_eval, y_eval):\n",
    "    print(f\"µ_cvs={cross_val_score(_model, x_eval, y_eval, cv=5).mean():.7f}; model={_model}\")"
   ],
   "metadata": {
    "collapsed": false,
    "pycharm": {
     "name": "#%% EVALUATE UTILS\n"
    }
   }
  },
  {
   "cell_type": "code",
   "execution_count": 33,
   "outputs": [],
   "source": [
    "from sklearn.ensemble import RandomForestClassifier\n",
    "\n",
    "def forest_accuracy_estimators(_x, _y, x_train, x_eval, y_train, y_eval, max_depth, max_est=600, est_step=5):\n",
    "    min_msu = float('inf')\n",
    "    min_train_msu = 0\n",
    "    optimal_n=0\n",
    "    estimators = range(50, max_est, est_step)\n",
    "    _msus = []\n",
    "    _cvs = []\n",
    "    for _e in estimators:\n",
    "        _model = RandomForestClassifier(n_estimators=_e, max_depth=max_depth, random_state=1)\n",
    "        msu, train_msu = eval_msu(x_train, x_eval, y_train, y_eval, _model)\n",
    "        _cvs.append(cross_val_score(_model, _x, _y, cv=5).mean())\n",
    "        _msus.append(msu)\n",
    "        if msu < min_msu:\n",
    "            min_msu = msu\n",
    "            optimal_n = _e\n",
    "            min_train_msu = train_msu\n",
    "    df = {\"estimators\": estimators, \"msus\": _msus}\n",
    "    plt.plot(df['estimators'], df['msus'], label=f\"d_{max_depth}\")\n",
    "    print(f\"min_msu={min_msu:.5f} for depth={max_depth}, n_est={optimal_n}\")\n",
    "    print(f\"train_m={min_train_msu:.5f}; CVS={np.max(_cvs):.5f}\")"
   ],
   "metadata": {
    "collapsed": false,
    "pycharm": {
     "name": "#%%\n"
    }
   }
  },
  {
   "cell_type": "code",
   "execution_count": 34,
   "outputs": [
    {
     "name": "stdout",
     "output_type": "stream",
     "text": [
      "['Mr' 'Mrs' 'Miss' 'Master' 'Dr' 'Ms']\n"
     ]
    },
    {
     "name": "stderr",
     "output_type": "stream",
     "text": [
      "<ipython-input-2-792ce73acae8>:19: SettingWithCopyWarning: \n",
      "A value is trying to be set on a copy of a slice from a DataFrame.\n",
      "Try using .loc[row_indexer,col_indexer] = value instead\n",
      "\n",
      "See the caveats in the documentation: https://pandas.pydata.org/pandas-docs/stable/user_guide/indexing.html#returning-a-view-versus-a-copy\n",
      "  df['Title'] = list(zip(df.Sex, df.Name, df.SibSp))\n",
      "<ipython-input-2-792ce73acae8>:20: SettingWithCopyWarning: \n",
      "A value is trying to be set on a copy of a slice from a DataFrame.\n",
      "Try using .loc[row_indexer,col_indexer] = value instead\n",
      "\n",
      "See the caveats in the documentation: https://pandas.pydata.org/pandas-docs/stable/user_guide/indexing.html#returning-a-view-versus-a-copy\n",
      "  df['Title'] = df['Title'].transform(lambda n: extract_title(n))\n"
     ]
    }
   ],
   "source": [
    "from sklearn.model_selection import train_test_split\n",
    "\n",
    "features = [\"Pclass\", \"Sex\", \"SibSp\", \"Parch\", \"Name\", \"Embarked\"]\n",
    "y = train_data[\"Survived\"]\n",
    "X = prepare_df(train_data[features])\n",
    "X.describe()\n",
    "train_x, eval_x, train_y, eval_y = train_test_split(X.fillna(X.mean()), y, random_state=24)"
   ],
   "metadata": {
    "collapsed": false,
    "pycharm": {
     "name": "#%% PREP\n"
    }
   }
  },
  {
   "cell_type": "code",
   "execution_count": 35,
   "outputs": [
    {
     "name": "stdout",
     "output_type": "stream",
     "text": [
      "µ_cvs=0.8125855251; model=RandomForestClassifier(max_depth=6, n_estimators=40, random_state=10)\n"
     ]
    }
   ],
   "source": [
    "model = RandomForestClassifier(n_estimators=40, max_depth=6, random_state=10)\n",
    "print_cvs(model, X.fillna(X.mean()), y)\n",
    "\n",
    "def plot_random_forest_by_depth_and_est():\n",
    "    for d in range(4, 15):\n",
    "        forest_accuracy_estimators(X.fillna(X.mean()), y, train_x, eval_x, train_y, eval_y, d, max_est=400, est_step=10)\n",
    "    plt.legend()\n",
    "    plt.show()\n",
    "# plot_random_forest_by_depth_and_est()"
   ],
   "metadata": {
    "collapsed": false,
    "pycharm": {
     "name": "#%%\n"
    }
   }
  },
  {
   "cell_type": "code",
   "execution_count": 69,
   "outputs": [
    {
     "name": "stdout",
     "output_type": "stream",
     "text": [
      "e_msu=0.1704036; t_msu=0.1661677; model=LogisticRegression(max_iter=100000, random_state=0)\n",
      "µ_cvs=0.8148202; model=LogisticRegression(max_iter=100000, random_state=0)\n"
     ]
    }
   ],
   "source": [
    "from sklearn.linear_model import LogisticRegression\n",
    "\n",
    "model = LogisticRegression(random_state=0, max_iter=100000)\n",
    "model.fit(train_x, train_y)\n",
    "print_msu(train_x, eval_x, train_y, eval_y, model)\n",
    "print_cvs(model, X.fillna(X.mean()), y)"
   ],
   "metadata": {
    "collapsed": false,
    "pycharm": {
     "name": "#%%\n"
    }
   }
  },
  {
   "cell_type": "code",
   "execution_count": 70,
   "outputs": [
    {
     "name": "stdout",
     "output_type": "stream",
     "text": [
      "e_msu=0.1793722; t_msu=0.1781437; model=SGDClassifier(alpha=0.003, max_iter=10000, random_state=0)\n",
      "µ_cvs=0.8192832; model=SGDClassifier(alpha=0.003, max_iter=100000, random_state=0)\n"
     ]
    },
    {
     "data": {
      "text/plain": "<Figure size 432x288 with 1 Axes>",
      "image/png": "[encoded data removed]"
     },
     "metadata": {
      "needs_background": "light"
     },
     "output_type": "display_data"
    }
   ],
   "source": [
    "from sklearn.linear_model import SGDClassifier\n",
    "\n",
    "print_msu(train_x, eval_x, train_y, eval_y, SGDClassifier(random_state=0, max_iter=10000, alpha=0.003))\n",
    "print_cvs(SGDClassifier(random_state=0, max_iter=100000, alpha=0.003), X.fillna(X.mean()), y)\n",
    "\n",
    "def plot_sgd_by_lr():\n",
    "    graph = {}\n",
    "    for i in range(50):\n",
    "        exp = -1.3 * np.random.rand() - 2.5\n",
    "        alpha = 10 ** exp\n",
    "        cvs = cross_val_score(SGDClassifier(random_state=0, max_iter=100000, alpha=alpha), X.fillna(X.mean()), y,\n",
    "                              cv=5).mean()\n",
    "        graph[alpha] = cvs\n",
    "    lists = sorted(graph.items(), reverse=True)  # sorted by key, return a list of tuples\n",
    "    _x, _y = zip(*lists)\n",
    "    plt.plot(_x, _y)\n",
    "    plt.xscale('log')\n",
    "    plt.xlabel('learning_rate')\n",
    "    plt.ylabel('cvs')\n",
    "    plt.xlim(10 ** -4, 10 ** -2.5)\n",
    "    plt.show()\n",
    "plot_sgd_by_lr()"
   ],
   "metadata": {
    "collapsed": false,
    "pycharm": {
     "name": "#%%\n"
    }
   }
  },
  {
   "cell_type": "code",
   "execution_count": 71,
   "outputs": [
    {
     "name": "stdout",
     "output_type": "stream",
     "text": [
      "µ_cvs=0.6576925; model=GaussianNB()\n",
      "µ_cvs=0.8013182; model=MultinomialNB()\n",
      "µ_cvs=0.7990835; model=ComplementNB()\n"
     ]
    }
   ],
   "source": [
    "from sklearn.naive_bayes import GaussianNB\n",
    "from sklearn.naive_bayes import MultinomialNB\n",
    "from sklearn.naive_bayes import ComplementNB\n",
    "\n",
    "print_cvs(GaussianNB(), X.fillna(X.mean()), y)\n",
    "print_cvs(MultinomialNB(), X.fillna(X.mean()), y)\n",
    "print_cvs(ComplementNB(), X.fillna(X.mean()), y)"
   ],
   "metadata": {
    "collapsed": false,
    "pycharm": {
     "name": "#%%\n"
    }
   }
  },
  {
   "cell_type": "code",
   "execution_count": 72,
   "outputs": [
    {
     "name": "stdout",
     "output_type": "stream",
     "text": [
      "µ_cvs=0.8024794; model=KNeighborsClassifier()\n",
      "µ_cvs=0.3692283; model=KNeighborsRegressor()\n"
     ]
    }
   ],
   "source": [
    "from sklearn.neighbors import KNeighborsClassifier\n",
    "from sklearn.neighbors import KNeighborsRegressor\n",
    "\n",
    "print_cvs(KNeighborsClassifier(), X.fillna(X.mean()), y)\n",
    "print_cvs(KNeighborsRegressor(), X.fillna(X.mean()), y)"
   ],
   "metadata": {
    "collapsed": false,
    "pycharm": {
     "name": "#%%\n"
    }
   }
  },
  {
   "cell_type": "code",
   "execution_count": null,
   "outputs": [],
   "source": [],
   "metadata": {
    "collapsed": false,
    "pycharm": {
     "name": "#%%\n"
    }
   }
  },
  {
   "cell_type": "code",
   "execution_count": 201,
   "outputs": [
    {
     "name": "stdout",
     "output_type": "stream",
     "text": [
      "['Mr' 'Mrs' 'Miss' 'Master' 'Ms' 'Dr']\n",
      "Your submission was successfully saved!\n"
     ]
    },
    {
     "name": "stderr",
     "output_type": "stream",
     "text": [
      "<ipython-input-177-0756dd6cb8a1>:17: SettingWithCopyWarning: \n",
      "A value is trying to be set on a copy of a slice from a DataFrame.\n",
      "Try using .loc[row_indexer,col_indexer] = value instead\n",
      "\n",
      "See the caveats in the documentation: https://pandas.pydata.org/pandas-docs/stable/user_guide/indexing.html#returning-a-view-versus-a-copy\n",
      "  df['Title'] = list(zip(df.Sex, df.Name, df.SibSp))\n",
      "<ipython-input-177-0756dd6cb8a1>:18: SettingWithCopyWarning: \n",
      "A value is trying to be set on a copy of a slice from a DataFrame.\n",
      "Try using .loc[row_indexer,col_indexer] = value instead\n",
      "\n",
      "See the caveats in the documentation: https://pandas.pydata.org/pandas-docs/stable/user_guide/indexing.html#returning-a-view-versus-a-copy\n",
      "  df['Title'] = df['Title'].transform(lambda n: extract_title(n))\n"
     ]
    }
   ],
   "source": [
    "from sklearn.ensemble import RandomForestClassifier\n",
    "\n",
    "test_data = pd.read_csv('../data/kaggle/input/titanic/test.csv')\n",
    "X_test = prepare_df(test_data[features])\n",
    "X_test = X_test.fillna(X.mean())\n",
    "\n",
    "model = RandomForestClassifier(n_estimators=30, max_depth=7, random_state=1) #245/8\n",
    "model.fit(train_x, train_y)\n",
    "predictions = model.predict(X_test)\n",
    "\n",
    "output = pd.DataFrame({'PassengerId': test_data.PassengerId, 'Survived': predictions})\n",
    "output.to_csv('../data/kaggle/output/my_submission.csv', index=False)\n",
    "print(\"Your submission was successfully saved!\")"
   ],
   "metadata": {
    "collapsed": false,
    "pycharm": {
     "name": "#%% CREATE SUBMISSION\n"
    }
   }
  },
  {
   "cell_type": "code",
   "execution_count": 215,
   "outputs": [
    {
     "name": "stdout",
     "output_type": "stream",
     "text": [
      "['Mr' 'Mrs' 'Miss' 'Master' 'Dr' 'Ms']\n"
     ]
    },
    {
     "data": {
      "text/plain": "<AxesSubplot:>"
     },
     "execution_count": 215,
     "metadata": {},
     "output_type": "execute_result"
    },
    {
     "data": {
      "text/plain": "<Figure size 2160x720 with 2 Axes>",
      "image/png": "[encoded data removed]"
     },
     "metadata": {
      "needs_background": "light"
     },
     "output_type": "display_data"
    }
   ],
   "source": [
    "import pandas as pd\n",
    "import missingno as msno\n",
    "\n",
    "train_data = pd.read_csv('../data/kaggle/input/titanic/train.csv')\n",
    "%matplotlib inline\n",
    "msno.matrix(prepare_df(all_data).fillna(all_data.mean()).drop(columns=['Cabin']), figsize = (30,10))"
   ],
   "metadata": {
    "collapsed": false,
    "pycharm": {
     "name": "#%%\n"
    }
   }
  },
  {
   "cell_type": "code",
   "execution_count": null,
   "outputs": [],
   "source": [],
   "metadata": {
    "collapsed": false,
    "pycharm": {
     "name": "#%%\n"
    }
   }
  }
 ]
}