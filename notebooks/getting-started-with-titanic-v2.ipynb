{
 "metadata": {
  "kernelspec": {
   "name": "pycharm-fa55fe5c",
   "language": "python",
   "display_name": "PyCharm (scientificProject)"
  },
  "language_info": {
   "name": "python",
   "version": "3.7.10",
   "mimetype": "text/x-python",
   "codemirror_mode": {
    "name": "ipython",
    "version": 3
   },
   "pygments_lexer": "ipython3",
   "nbconvert_exporter": "python",
   "file_extension": ".py"
  }
 },
 "nbformat_minor": 4,
 "nbformat": 4,
 "cells": [
  {
   "cell_type": "code",
   "source": [
    "# This Python 3 environment comes with many helpful analytics libraries installed\n",
    "# It is defined by the kaggle/python Docker image: https://github.com/kaggle/docker-python\n",
    "# For example, here's several helpful packages to load\n",
    "import numpy as np # linear algebra\n",
    "import pandas as pd # data processing, CSV file I/O (e.g. pd.read_csv)\n",
    "import matplotlib.pyplot as plt\n",
    "\n",
    "# Input data files are available in the read-only \"../input/\" directory\n",
    "# For example, running this (by clicking run or pressing Shift+Enter) will list all files under the input directory\n",
    "\n",
    "import os\n",
    "\n",
    "for dirname, _, filenames in os.walk('../data/kaggle/input'):\n",
    "    for filename in filenames:\n",
    "        print(os.path.join(dirname, filename))\n",
    "\n",
    "# You can write up to 20GB to the current directory (/kaggle/working/) that gets preserved as output when you create a version using \"Save & Run All\" \n",
    "# You can also write temporary files to /kaggle/temp/, but they won't be saved outside of the current session"
   ],
   "metadata": {
    "_uuid": "8f2839f25d086af736a60e9eeb907d3b93b6e0e5",
    "_cell_guid": "b1076dfc-b9ad-4769-8c92-a6c4dae69d19",
    "execution": {
     "iopub.status.busy": "2021-06-22T04:10:13.860334Z",
     "iopub.execute_input": "2021-06-22T04:10:13.861288Z",
     "iopub.status.idle": "2021-06-22T04:10:13.877526Z",
     "shell.execute_reply.started": "2021-06-22T04:10:13.861133Z",
     "shell.execute_reply": "2021-06-22T04:10:13.876276Z"
    },
    "trusted": true
   },
   "execution_count": 202,
   "outputs": [
    {
     "name": "stdout",
     "output_type": "stream",
     "text": [
      "../data/kaggle/input/.DS_Store\n",
      "../data/kaggle/input/titanic/my_submission.csv\n",
      "../data/kaggle/input/titanic/test.csv\n",
      "../data/kaggle/input/titanic/train.csv\n"
     ]
    }
   ]
  },
  {
   "cell_type": "code",
   "source": [
    "train_data = pd.read_csv('../data/kaggle/input/titanic/train.csv')\n",
    "train_data.head()"
   ],
   "metadata": {
    "execution": {
     "iopub.status.busy": "2021-06-22T04:10:21.099599Z",
     "iopub.execute_input": "2021-06-22T04:10:21.100015Z",
     "iopub.status.idle": "2021-06-22T04:10:21.124610Z",
     "shell.execute_reply.started": "2021-06-22T04:10:21.099974Z",
     "shell.execute_reply": "2021-06-22T04:10:21.123695Z"
    },
    "trusted": true
   },
   "execution_count": 203,
   "outputs": [
    {
     "data": {
      "text/plain": "   PassengerId  Survived  Pclass  \\\n0            1         0       3   \n1            2         1       1   \n2            3         1       3   \n3            4         1       1   \n4            5         0       3   \n\n                                                Name     Sex   Age  SibSp  \\\n0                            Braund, Mr. Owen Harris    male  22.0      1   \n1  Cumings, Mrs. John Bradley (Florence Briggs Th...  female  38.0      1   \n2                             Heikkinen, Miss. Laina  female  26.0      0   \n3       Futrelle, Mrs. Jacques Heath (Lily May Peel)  female  35.0      1   \n4                           Allen, Mr. William Henry    male  35.0      0   \n\n   Parch            Ticket     Fare Cabin Embarked  \n0      0         A/5 21171   7.2500   NaN        S  \n1      0          PC 17599  71.2833   C85        C  \n2      0  STON/O2. 3101282   7.9250   NaN        S  \n3      0            113803  53.1000  C123        S  \n4      0            373450   8.0500   NaN        S  ",
      "text/html": "<div>\n<style scoped>\n    .dataframe tbody tr th:only-of-type {\n        vertical-align: middle;\n    }\n\n    .dataframe tbody tr th {\n        vertical-align: top;\n    }\n\n    .dataframe thead th {\n        text-align: right;\n    }\n</style>\n<table border=\"1\" class=\"dataframe\">\n  <thead>\n    <tr style=\"text-align: right;\">\n      <th></th>\n      <th>PassengerId</th>\n      <th>Survived</th>\n      <th>Pclass</th>\n      <th>Name</th>\n      <th>Sex</th>\n      <th>Age</th>\n      <th>SibSp</th>\n      <th>Parch</th>\n      <th>Ticket</th>\n      <th>Fare</th>\n      <th>Cabin</th>\n      <th>Embarked</th>\n    </tr>\n  </thead>\n  <tbody>\n    <tr>\n      <th>0</th>\n      <td>1</td>\n      <td>0</td>\n      <td>3</td>\n      <td>Braund, Mr. Owen Harris</td>\n      <td>male</td>\n      <td>22.0</td>\n      <td>1</td>\n      <td>0</td>\n      <td>A/5 21171</td>\n      <td>7.2500</td>\n      <td>NaN</td>\n      <td>S</td>\n    </tr>\n    <tr>\n      <th>1</th>\n      <td>2</td>\n      <td>1</td>\n      <td>1</td>\n      <td>Cumings, Mrs. John Bradley (Florence Briggs Th...</td>\n      <td>female</td>\n      <td>38.0</td>\n      <td>1</td>\n      <td>0</td>\n      <td>PC 17599</td>\n      <td>71.2833</td>\n      <td>C85</td>\n      <td>C</td>\n    </tr>\n    <tr>\n      <th>2</th>\n      <td>3</td>\n      <td>1</td>\n      <td>3</td>\n      <td>Heikkinen, Miss. Laina</td>\n      <td>female</td>\n      <td>26.0</td>\n      <td>0</td>\n      <td>0</td>\n      <td>STON/O2. 3101282</td>\n      <td>7.9250</td>\n      <td>NaN</td>\n      <td>S</td>\n    </tr>\n    <tr>\n      <th>3</th>\n      <td>4</td>\n      <td>1</td>\n      <td>1</td>\n      <td>Futrelle, Mrs. Jacques Heath (Lily May Peel)</td>\n      <td>female</td>\n      <td>35.0</td>\n      <td>1</td>\n      <td>0</td>\n      <td>113803</td>\n      <td>53.1000</td>\n      <td>C123</td>\n      <td>S</td>\n    </tr>\n    <tr>\n      <th>4</th>\n      <td>5</td>\n      <td>0</td>\n      <td>3</td>\n      <td>Allen, Mr. William Henry</td>\n      <td>male</td>\n      <td>35.0</td>\n      <td>0</td>\n      <td>0</td>\n      <td>373450</td>\n      <td>8.0500</td>\n      <td>NaN</td>\n      <td>S</td>\n    </tr>\n  </tbody>\n</table>\n</div>"
     },
     "execution_count": 203,
     "metadata": {},
     "output_type": "execute_result"
    }
   ]
  },
  {
   "cell_type": "code",
   "source": [
    "train_data.describe()\n",
    "# train_data.Embarked.unique()\n",
    "# train_data.groupby('Embarked').hist()\n",
    "# train_data.groupby('Cabin').sum().head(50)"
   ],
   "metadata": {
    "execution": {
     "iopub.status.busy": "2021-06-22T05:02:00.311473Z",
     "iopub.execute_input": "2021-06-22T05:02:00.311928Z",
     "iopub.status.idle": "2021-06-22T05:02:03.694995Z",
     "shell.execute_reply.started": "2021-06-22T05:02:00.311892Z",
     "shell.execute_reply": "2021-06-22T05:02:03.693888Z"
    },
    "trusted": true
   },
   "execution_count": 204,
   "outputs": [
    {
     "data": {
      "text/plain": "       PassengerId    Survived      Pclass         Age       SibSp  \\\ncount   891.000000  891.000000  891.000000  714.000000  891.000000   \nmean    446.000000    0.383838    2.308642   29.699118    0.523008   \nstd     257.353842    0.486592    0.836071   14.526497    1.102743   \nmin       1.000000    0.000000    1.000000    0.420000    0.000000   \n25%     223.500000    0.000000    2.000000   20.125000    0.000000   \n50%     446.000000    0.000000    3.000000   28.000000    0.000000   \n75%     668.500000    1.000000    3.000000   38.000000    1.000000   \nmax     891.000000    1.000000    3.000000   80.000000    8.000000   \n\n            Parch        Fare  \ncount  891.000000  891.000000  \nmean     0.381594   32.204208  \nstd      0.806057   49.693429  \nmin      0.000000    0.000000  \n25%      0.000000    7.910400  \n50%      0.000000   14.454200  \n75%      0.000000   31.000000  \nmax      6.000000  512.329200  ",
      "text/html": "<div>\n<style scoped>\n    .dataframe tbody tr th:only-of-type {\n        vertical-align: middle;\n    }\n\n    .dataframe tbody tr th {\n        vertical-align: top;\n    }\n\n    .dataframe thead th {\n        text-align: right;\n    }\n</style>\n<table border=\"1\" class=\"dataframe\">\n  <thead>\n    <tr style=\"text-align: right;\">\n      <th></th>\n      <th>PassengerId</th>\n      <th>Survived</th>\n      <th>Pclass</th>\n      <th>Age</th>\n      <th>SibSp</th>\n      <th>Parch</th>\n      <th>Fare</th>\n    </tr>\n  </thead>\n  <tbody>\n    <tr>\n      <th>count</th>\n      <td>891.000000</td>\n      <td>891.000000</td>\n      <td>891.000000</td>\n      <td>714.000000</td>\n      <td>891.000000</td>\n      <td>891.000000</td>\n      <td>891.000000</td>\n    </tr>\n    <tr>\n      <th>mean</th>\n      <td>446.000000</td>\n      <td>0.383838</td>\n      <td>2.308642</td>\n      <td>29.699118</td>\n      <td>0.523008</td>\n      <td>0.381594</td>\n      <td>32.204208</td>\n    </tr>\n    <tr>\n      <th>std</th>\n      <td>257.353842</td>\n      <td>0.486592</td>\n      <td>0.836071</td>\n      <td>14.526497</td>\n      <td>1.102743</td>\n      <td>0.806057</td>\n      <td>49.693429</td>\n    </tr>\n    <tr>\n      <th>min</th>\n      <td>1.000000</td>\n      <td>0.000000</td>\n      <td>1.000000</td>\n      <td>0.420000</td>\n      <td>0.000000</td>\n      <td>0.000000</td>\n      <td>0.000000</td>\n    </tr>\n    <tr>\n      <th>25%</th>\n      <td>223.500000</td>\n      <td>0.000000</td>\n      <td>2.000000</td>\n      <td>20.125000</td>\n      <td>0.000000</td>\n      <td>0.000000</td>\n      <td>7.910400</td>\n    </tr>\n    <tr>\n      <th>50%</th>\n      <td>446.000000</td>\n      <td>0.000000</td>\n      <td>3.000000</td>\n      <td>28.000000</td>\n      <td>0.000000</td>\n      <td>0.000000</td>\n      <td>14.454200</td>\n    </tr>\n    <tr>\n      <th>75%</th>\n      <td>668.500000</td>\n      <td>1.000000</td>\n      <td>3.000000</td>\n      <td>38.000000</td>\n      <td>1.000000</td>\n      <td>0.000000</td>\n      <td>31.000000</td>\n    </tr>\n    <tr>\n      <th>max</th>\n      <td>891.000000</td>\n      <td>1.000000</td>\n      <td>3.000000</td>\n      <td>80.000000</td>\n      <td>8.000000</td>\n      <td>6.000000</td>\n      <td>512.329200</td>\n    </tr>\n  </tbody>\n</table>\n</div>"
     },
     "execution_count": 204,
     "metadata": {},
     "output_type": "execute_result"
    }
   ]
  },
  {
   "cell_type": "code",
   "source": [
    "test_data = pd.read_csv('../data/kaggle/input/titanic/test.csv')\n",
    "print(test_data.columns)\n",
    "test_data.head()"
   ],
   "metadata": {
    "execution": {
     "iopub.status.busy": "2021-06-22T04:10:24.217229Z",
     "iopub.execute_input": "2021-06-22T04:10:24.217829Z",
     "iopub.status.idle": "2021-06-22T04:10:24.245280Z",
     "shell.execute_reply.started": "2021-06-22T04:10:24.217783Z",
     "shell.execute_reply": "2021-06-22T04:10:24.243848Z"
    },
    "trusted": true
   },
   "execution_count": 205,
   "outputs": [
    {
     "name": "stdout",
     "output_type": "stream",
     "text": [
      "Index(['PassengerId', 'Pclass', 'Name', 'Sex', 'Age', 'SibSp', 'Parch',\n",
      "       'Ticket', 'Fare', 'Cabin', 'Embarked'],\n",
      "      dtype='object')\n"
     ]
    },
    {
     "data": {
      "text/plain": "   PassengerId  Pclass                                          Name     Sex  \\\n0          892       3                              Kelly, Mr. James    male   \n1          893       3              Wilkes, Mrs. James (Ellen Needs)  female   \n2          894       2                     Myles, Mr. Thomas Francis    male   \n3          895       3                              Wirz, Mr. Albert    male   \n4          896       3  Hirvonen, Mrs. Alexander (Helga E Lindqvist)  female   \n\n    Age  SibSp  Parch   Ticket     Fare Cabin Embarked  \n0  34.5      0      0   330911   7.8292   NaN        Q  \n1  47.0      1      0   363272   7.0000   NaN        S  \n2  62.0      0      0   240276   9.6875   NaN        Q  \n3  27.0      0      0   315154   8.6625   NaN        S  \n4  22.0      1      1  3101298  12.2875   NaN        S  ",
      "text/html": "<div>\n<style scoped>\n    .dataframe tbody tr th:only-of-type {\n        vertical-align: middle;\n    }\n\n    .dataframe tbody tr th {\n        vertical-align: top;\n    }\n\n    .dataframe thead th {\n        text-align: right;\n    }\n</style>\n<table border=\"1\" class=\"dataframe\">\n  <thead>\n    <tr style=\"text-align: right;\">\n      <th></th>\n      <th>PassengerId</th>\n      <th>Pclass</th>\n      <th>Name</th>\n      <th>Sex</th>\n      <th>Age</th>\n      <th>SibSp</th>\n      <th>Parch</th>\n      <th>Ticket</th>\n      <th>Fare</th>\n      <th>Cabin</th>\n      <th>Embarked</th>\n    </tr>\n  </thead>\n  <tbody>\n    <tr>\n      <th>0</th>\n      <td>892</td>\n      <td>3</td>\n      <td>Kelly, Mr. James</td>\n      <td>male</td>\n      <td>34.5</td>\n      <td>0</td>\n      <td>0</td>\n      <td>330911</td>\n      <td>7.8292</td>\n      <td>NaN</td>\n      <td>Q</td>\n    </tr>\n    <tr>\n      <th>1</th>\n      <td>893</td>\n      <td>3</td>\n      <td>Wilkes, Mrs. James (Ellen Needs)</td>\n      <td>female</td>\n      <td>47.0</td>\n      <td>1</td>\n      <td>0</td>\n      <td>363272</td>\n      <td>7.0000</td>\n      <td>NaN</td>\n      <td>S</td>\n    </tr>\n    <tr>\n      <th>2</th>\n      <td>894</td>\n      <td>2</td>\n      <td>Myles, Mr. Thomas Francis</td>\n      <td>male</td>\n      <td>62.0</td>\n      <td>0</td>\n      <td>0</td>\n      <td>240276</td>\n      <td>9.6875</td>\n      <td>NaN</td>\n      <td>Q</td>\n    </tr>\n    <tr>\n      <th>3</th>\n      <td>895</td>\n      <td>3</td>\n      <td>Wirz, Mr. Albert</td>\n      <td>male</td>\n      <td>27.0</td>\n      <td>0</td>\n      <td>0</td>\n      <td>315154</td>\n      <td>8.6625</td>\n      <td>NaN</td>\n      <td>S</td>\n    </tr>\n    <tr>\n      <th>4</th>\n      <td>896</td>\n      <td>3</td>\n      <td>Hirvonen, Mrs. Alexander (Helga E Lindqvist)</td>\n      <td>female</td>\n      <td>22.0</td>\n      <td>1</td>\n      <td>1</td>\n      <td>3101298</td>\n      <td>12.2875</td>\n      <td>NaN</td>\n      <td>S</td>\n    </tr>\n  </tbody>\n</table>\n</div>"
     },
     "execution_count": 205,
     "metadata": {},
     "output_type": "execute_result"
    }
   ]
  },
  {
   "cell_type": "code",
   "source": [
    "test_data.describe()"
   ],
   "metadata": {
    "execution": {
     "iopub.status.busy": "2021-06-22T04:10:26.482808Z",
     "iopub.execute_input": "2021-06-22T04:10:26.483319Z",
     "iopub.status.idle": "2021-06-22T04:10:26.534163Z",
     "shell.execute_reply.started": "2021-06-22T04:10:26.483281Z",
     "shell.execute_reply": "2021-06-22T04:10:26.532932Z"
    },
    "trusted": true,
    "pycharm": {
     "name": "#%%\n"
    }
   },
   "execution_count": 206,
   "outputs": [
    {
     "data": {
      "text/plain": "       PassengerId      Pclass         Age       SibSp       Parch        Fare\ncount   418.000000  418.000000  332.000000  418.000000  418.000000  417.000000\nmean   1100.500000    2.265550   30.272590    0.447368    0.392344   35.627188\nstd     120.810458    0.841838   14.181209    0.896760    0.981429   55.907576\nmin     892.000000    1.000000    0.170000    0.000000    0.000000    0.000000\n25%     996.250000    1.000000   21.000000    0.000000    0.000000    7.895800\n50%    1100.500000    3.000000   27.000000    0.000000    0.000000   14.454200\n75%    1204.750000    3.000000   39.000000    1.000000    0.000000   31.500000\nmax    1309.000000    3.000000   76.000000    8.000000    9.000000  512.329200",
      "text/html": "<div>\n<style scoped>\n    .dataframe tbody tr th:only-of-type {\n        vertical-align: middle;\n    }\n\n    .dataframe tbody tr th {\n        vertical-align: top;\n    }\n\n    .dataframe thead th {\n        text-align: right;\n    }\n</style>\n<table border=\"1\" class=\"dataframe\">\n  <thead>\n    <tr style=\"text-align: right;\">\n      <th></th>\n      <th>PassengerId</th>\n      <th>Pclass</th>\n      <th>Age</th>\n      <th>SibSp</th>\n      <th>Parch</th>\n      <th>Fare</th>\n    </tr>\n  </thead>\n  <tbody>\n    <tr>\n      <th>count</th>\n      <td>418.000000</td>\n      <td>418.000000</td>\n      <td>332.000000</td>\n      <td>418.000000</td>\n      <td>418.000000</td>\n      <td>417.000000</td>\n    </tr>\n    <tr>\n      <th>mean</th>\n      <td>1100.500000</td>\n      <td>2.265550</td>\n      <td>30.272590</td>\n      <td>0.447368</td>\n      <td>0.392344</td>\n      <td>35.627188</td>\n    </tr>\n    <tr>\n      <th>std</th>\n      <td>120.810458</td>\n      <td>0.841838</td>\n      <td>14.181209</td>\n      <td>0.896760</td>\n      <td>0.981429</td>\n      <td>55.907576</td>\n    </tr>\n    <tr>\n      <th>min</th>\n      <td>892.000000</td>\n      <td>1.000000</td>\n      <td>0.170000</td>\n      <td>0.000000</td>\n      <td>0.000000</td>\n      <td>0.000000</td>\n    </tr>\n    <tr>\n      <th>25%</th>\n      <td>996.250000</td>\n      <td>1.000000</td>\n      <td>21.000000</td>\n      <td>0.000000</td>\n      <td>0.000000</td>\n      <td>7.895800</td>\n    </tr>\n    <tr>\n      <th>50%</th>\n      <td>1100.500000</td>\n      <td>3.000000</td>\n      <td>27.000000</td>\n      <td>0.000000</td>\n      <td>0.000000</td>\n      <td>14.454200</td>\n    </tr>\n    <tr>\n      <th>75%</th>\n      <td>1204.750000</td>\n      <td>3.000000</td>\n      <td>39.000000</td>\n      <td>1.000000</td>\n      <td>0.000000</td>\n      <td>31.500000</td>\n    </tr>\n    <tr>\n      <th>max</th>\n      <td>1309.000000</td>\n      <td>3.000000</td>\n      <td>76.000000</td>\n      <td>8.000000</td>\n      <td>9.000000</td>\n      <td>512.329200</td>\n    </tr>\n  </tbody>\n</table>\n</div>"
     },
     "execution_count": 206,
     "metadata": {},
     "output_type": "execute_result"
    }
   ]
  },
  {
   "cell_type": "code",
   "execution_count": 207,
   "outputs": [],
   "source": [
    "def squash_dummies(df: pd.DataFrame, feature, threshold):\n",
    "    masked_df = df[feature].mask(df[feature] > threshold)\n",
    "    df = df.drop(columns=[feature])\n",
    "    df[feature] = masked_df\n",
    "    return df\n",
    "\n",
    "def prepare_df(df: pd.DataFrame):\n",
    "    new_df = df\n",
    "    extract_title_from_name(new_df)\n",
    "    _dummy_features0 = [\"Embarked\"]\n",
    "    _dummy_features = [\"Pclass\", \"Sex\", \"SibSp\", \"Parch\", \"Title\"]\n",
    "    new_df = squash_dummies(new_df, 'Parch', 2)\n",
    "    new_df = squash_dummies(new_df, 'SibSp', 4)\n",
    "    new_df = new_df.drop(columns=['Name'])\n",
    "    new_df = pd.get_dummies(new_df, columns=_dummy_features0, dummy_na=True)\n",
    "    return pd.get_dummies(new_df, columns=_dummy_features, dummy_na=False)\n",
    "\n",
    "def extract_title_from_name(df: pd.DataFrame):\n",
    "    df['Title'] = list(zip(df.Sex, df.Name, df.SibSp))\n",
    "    df['Title'] = df['Title'].transform(lambda n: extract_title(n))\n",
    "    print(df['Title'].unique())\n",
    "\n",
    "def extract_title(name):\n",
    "    male = name[0] == 'male'\n",
    "    if male and str(name[1]).find('Mr') > -1:\n",
    "        return 'Mr'\n",
    "    if not male and str(name[1]).find('Mrs') > -1:\n",
    "        return 'Mrs'\n",
    "    if not male and str(name[1]).find('Miss') > -1:\n",
    "        return 'Miss'\n",
    "    if not male and str(name[1]).find('Mme') > -1:\n",
    "        return 'Ms'\n",
    "    if male and str(name[1]).find('Master') > -1:\n",
    "        return 'Master'\n",
    "    if str(name[1]).find('Dr.') > -1:\n",
    "        return 'Dr'\n",
    "    if male:\n",
    "        return 'Mr'\n",
    "    if name[2]>1:\n",
    "        return'Mrs'\n",
    "    # print(name)\n",
    "    return 'Ms'"
   ],
   "metadata": {
    "collapsed": false,
    "pycharm": {
     "name": "#%% PREPARE DATA\n"
    }
   }
  },
  {
   "cell_type": "code",
   "execution_count": 208,
   "outputs": [],
   "source": [
    "def plot_rate(df: pd.DataFrame, feature):\n",
    "    m_df = df\n",
    "    m_df['cnt'] = 1\n",
    "    m_gb = m_df.groupby(feature).sum()\n",
    "    m_gb['rate'] = m_gb['Survived']/m_gb['cnt']\n",
    "    # m_gb[['rate']].plot()\n",
    "    # plt.scatter(m_gb)\n",
    "    # plt.show()\n",
    "    print(m_gb[['rate']].head())"
   ],
   "metadata": {
    "collapsed": false,
    "pycharm": {
     "name": "#%% EDA\n"
    }
   }
  },
  {
   "cell_type": "code",
   "execution_count": 209,
   "outputs": [
    {
     "name": "stdout",
     "output_type": "stream",
     "text": [
      "['Mr' 'Mrs' 'Miss' 'Master' 'Dr' 'Ms']\n",
      "Columns: Index(['PassengerId', 'Survived', 'Pclass', 'Name', 'Sex', 'Age', 'SibSp',\n",
      "       'Parch', 'Ticket', 'Fare', 'Cabin', 'Embarked', 'Title'],\n",
      "      dtype='object')\n",
      "            rate\n",
      "Pclass          \n",
      "1       0.421053\n",
      "2       0.314079\n",
      "3       0.167842\n",
      "            rate\n",
      "Title           \n",
      "Dr      0.375000\n",
      "Master  0.377049\n",
      "Miss    0.488372\n",
      "Mr      0.108387\n",
      "Mrs     0.507463\n",
      "          rate\n",
      "Sex           \n",
      "female  0.5000\n",
      "male    0.1293\n",
      "           rate\n",
      "SibSp          \n",
      "0      0.235690\n",
      "1      0.351097\n",
      "2      0.309524\n",
      "3      0.200000\n",
      "4      0.136364\n",
      "           rate\n",
      "Parch          \n",
      "0      0.232535\n",
      "1      0.382353\n",
      "2      0.353982\n",
      "3      0.375000\n",
      "4      0.000000\n",
      "              rate\n",
      "Embarked          \n",
      "C         0.344444\n",
      "Q         0.243902\n",
      "S         0.237418\n"
     ]
    }
   ],
   "source": [
    "all_data = pd.concat([train_data, test_data], axis=0)\n",
    "extract_title_from_name(all_data)\n",
    "print(f\"Columns: {all_data.columns}\")\n",
    "\n",
    "eda_features = [\"Pclass\", \"Title\", \"Sex\", \"SibSp\", \"Parch\", \"Embarked\"]\n",
    "for k in eda_features:\n",
    "    plot_rate(all_data, k)\n",
    "    # print(f\"Unique {k}: {train_data[k].unique()}\")\n",
    "# plot_rate(all_data, eda_features[0])\n"
   ],
   "metadata": {
    "collapsed": false,
    "pycharm": {
     "name": "#%%\n"
    }
   }
  },
  {
   "cell_type": "code",
   "execution_count": 180,
   "outputs": [],
   "source": [
    "from sklearn.metrics import mean_squared_error\n",
    "\n",
    "def eval_msu(x_train, x_eval, y_train, y_eval, _model):\n",
    "    _model.fit(x_train, train_y)\n",
    "    eval_predictions = _model.predict(x_eval)\n",
    "    msu = mean_squared_error(y_eval, eval_predictions)\n",
    "    train_predictions = _model.predict(x_train)\n",
    "    train_msu = mean_squared_error(y_train, train_predictions)\n",
    "    # print(f\"Eval msu = {msu}\")\n",
    "    return msu, train_msu"
   ],
   "metadata": {
    "collapsed": false,
    "pycharm": {
     "name": "#%% EVALUATE\n"
    }
   }
  },
  {
   "cell_type": "code",
   "execution_count": 218,
   "outputs": [],
   "source": [
    "from sklearn.ensemble import RandomForestClassifier\n",
    "\n",
    "def forest_accuracy_estimators(_x, _y, x_train, x_eval, y_train, y_eval, max_depth, max_est=600, est_step=5):\n",
    "    min_msu = float('inf')\n",
    "    min_train_msu = 0\n",
    "    optimal_n=0\n",
    "    estimators = range(50, max_est, est_step)\n",
    "    msus = []\n",
    "    cvs = []\n",
    "    for i in estimators:\n",
    "        _model = RandomForestClassifier(n_estimators=i, max_depth=max_depth, random_state=1)\n",
    "        msu, train_msu = eval_msu(x_train, x_eval, y_train, y_eval, _model)\n",
    "        cvs.append(cross_val_score(_model, _x, _y, cv=5).mean())\n",
    "        msus.append(msu)\n",
    "        if msu < min_msu:\n",
    "            min_msu = msu\n",
    "            optimal_n = i\n",
    "            min_train_msu = train_msu\n",
    "    df = {\"estimators\": estimators, \"msus\": msus}\n",
    "    plt.plot(df['estimators'], df['msus'], label=f\"d_{max_depth}\")\n",
    "    print(f\"min_msu={min_msu:.5f} for depth={max_depth}, n_est={optimal_n}\")\n",
    "    print(f\"train_m={min_train_msu:.5f}; CVS={np.max(cvs):.5f}\")"
   ],
   "metadata": {
    "collapsed": false,
    "pycharm": {
     "name": "#%%\n"
    }
   }
  },
  {
   "cell_type": "code",
   "execution_count": 219,
   "outputs": [
    {
     "name": "stderr",
     "output_type": "stream",
     "text": [
      "<ipython-input-207-792ce73acae8>:19: SettingWithCopyWarning: \n",
      "A value is trying to be set on a copy of a slice from a DataFrame.\n",
      "Try using .loc[row_indexer,col_indexer] = value instead\n",
      "\n",
      "See the caveats in the documentation: https://pandas.pydata.org/pandas-docs/stable/user_guide/indexing.html#returning-a-view-versus-a-copy\n",
      "  df['Title'] = list(zip(df.Sex, df.Name, df.SibSp))\n",
      "<ipython-input-207-792ce73acae8>:20: SettingWithCopyWarning: \n",
      "A value is trying to be set on a copy of a slice from a DataFrame.\n",
      "Try using .loc[row_indexer,col_indexer] = value instead\n",
      "\n",
      "See the caveats in the documentation: https://pandas.pydata.org/pandas-docs/stable/user_guide/indexing.html#returning-a-view-versus-a-copy\n",
      "  df['Title'] = df['Title'].transform(lambda n: extract_title(n))\n"
     ]
    },
    {
     "name": "stdout",
     "output_type": "stream",
     "text": [
      "['Mr' 'Mrs' 'Miss' 'Master' 'Dr' 'Ms']\n",
      "min_msu=0.17937 for depth=5, n_est=31\n",
      "train_m=0.16317; CVS=0.82265\n",
      "\n",
      "min_msu=0.17489 for depth=7, n_est=31\n",
      "train_m=0.14970; CVS=0.81819\n",
      "\n",
      "min_msu=0.17937 for depth=9, n_est=31\n",
      "train_m=0.14371; CVS=0.81707\n",
      "\n",
      "min_msu=0.16143 for depth=11, n_est=1\n",
      "train_m=0.16317; CVS=0.81707\n",
      "\n"
     ]
    },
    {
     "data": {
      "text/plain": "<Figure size 432x288 with 1 Axes>",
      "image/png": "[encoded data removed]"
     },
     "metadata": {
      "needs_background": "light"
     },
     "output_type": "display_data"
    }
   ],
   "source": [
    "from sklearn.model_selection import train_test_split\n",
    "\n",
    "features = [\"Pclass\", \"Sex\", \"SibSp\", \"Parch\", \"Name\", \"Embarked\"]\n",
    "y = train_data[\"Survived\"]\n",
    "X = prepare_df(train_data[features])\n",
    "X.describe()\n",
    "train_x, eval_x, train_y, eval_y = train_test_split(X.fillna(X.mean()), y, random_state=24)\n",
    "\n",
    "for d in range(5, 12, 2):\n",
    "    forest_accuracy_estimators(X.fillna(X.mean()), y, train_x, eval_x, train_y, eval_y, d, max_est=300, est_step=30)\n",
    "plt.legend()\n",
    "plt.show()"
   ],
   "metadata": {
    "collapsed": false,
    "pycharm": {
     "name": "#%%\n"
    }
   }
  },
  {
   "cell_type": "code",
   "execution_count": 170,
   "outputs": [
    {
     "data": {
      "text/plain": "(0.17937219730941703, 0.16766467065868262)"
     },
     "execution_count": 170,
     "metadata": {},
     "output_type": "execute_result"
    }
   ],
   "source": [
    "from sklearn.linear_model import LogisticRegression\n",
    "\n",
    "model = LogisticRegression(random_state=0, max_iter=10000)\n",
    "model.fit(train_x, train_y)\n",
    "eval_msu(train_x, eval_x, train_y, eval_y, model)"
   ],
   "metadata": {
    "collapsed": false,
    "pycharm": {
     "name": "#%%\n"
    }
   }
  },
  {
   "cell_type": "code",
   "execution_count": 171,
   "outputs": [
    {
     "data": {
      "text/plain": "array([0.82122905, 0.81460674, 0.81460674, 0.79775281, 0.87078652])"
     },
     "execution_count": 171,
     "metadata": {},
     "output_type": "execute_result"
    }
   ],
   "source": [
    "from sklearn.model_selection import cross_val_score\n",
    "cross_val_score(LogisticRegression(random_state=0, max_iter=1000), X.fillna(X.mean()), y, cv=5)"
   ],
   "metadata": {
    "collapsed": false,
    "pycharm": {
     "name": "#%%\n"
    }
   }
  },
  {
   "cell_type": "code",
   "execution_count": 172,
   "outputs": [
    {
     "data": {
      "text/plain": "array([0.82122905, 0.82022472, 0.8258427 , 0.7752809 , 0.85393258])"
     },
     "execution_count": 172,
     "metadata": {},
     "output_type": "execute_result"
    }
   ],
   "source": [
    "cross_val_score(RandomForestClassifier(n_estimators=40, max_depth=6, random_state=10), X.fillna(X.mean()), y, cv=5)"
   ],
   "metadata": {
    "collapsed": false,
    "pycharm": {
     "name": "#%%\n"
    }
   }
  },
  {
   "cell_type": "code",
   "execution_count": 201,
   "outputs": [
    {
     "name": "stdout",
     "output_type": "stream",
     "text": [
      "['Mr' 'Mrs' 'Miss' 'Master' 'Ms' 'Dr']\n",
      "Your submission was successfully saved!\n"
     ]
    },
    {
     "name": "stderr",
     "output_type": "stream",
     "text": [
      "<ipython-input-177-0756dd6cb8a1>:17: SettingWithCopyWarning: \n",
      "A value is trying to be set on a copy of a slice from a DataFrame.\n",
      "Try using .loc[row_indexer,col_indexer] = value instead\n",
      "\n",
      "See the caveats in the documentation: https://pandas.pydata.org/pandas-docs/stable/user_guide/indexing.html#returning-a-view-versus-a-copy\n",
      "  df['Title'] = list(zip(df.Sex, df.Name, df.SibSp))\n",
      "<ipython-input-177-0756dd6cb8a1>:18: SettingWithCopyWarning: \n",
      "A value is trying to be set on a copy of a slice from a DataFrame.\n",
      "Try using .loc[row_indexer,col_indexer] = value instead\n",
      "\n",
      "See the caveats in the documentation: https://pandas.pydata.org/pandas-docs/stable/user_guide/indexing.html#returning-a-view-versus-a-copy\n",
      "  df['Title'] = df['Title'].transform(lambda n: extract_title(n))\n"
     ]
    }
   ],
   "source": [
    "from sklearn.ensemble import RandomForestClassifier\n",
    "\n",
    "test_data = pd.read_csv('../data/kaggle/input/titanic/test.csv')\n",
    "X_test = prepare_df(test_data[features])\n",
    "X_test = X_test.fillna(X.mean())\n",
    "\n",
    "model = RandomForestClassifier(n_estimators=30, max_depth=7, random_state=1) #245/8\n",
    "model.fit(train_x, train_y)\n",
    "predictions = model.predict(X_test)\n",
    "\n",
    "output = pd.DataFrame({'PassengerId': test_data.PassengerId, 'Survived': predictions})\n",
    "output.to_csv('../data/kaggle/output/my_submission.csv', index=False)\n",
    "print(\"Your submission was successfully saved!\")"
   ],
   "metadata": {
    "collapsed": false,
    "pycharm": {
     "name": "#%% CREATE SUBMISSION\n"
    }
   }
  },
  {
   "cell_type": "code",
   "execution_count": 215,
   "outputs": [
    {
     "name": "stdout",
     "output_type": "stream",
     "text": [
      "['Mr' 'Mrs' 'Miss' 'Master' 'Dr' 'Ms']\n"
     ]
    },
    {
     "data": {
      "text/plain": "<AxesSubplot:>"
     },
     "execution_count": 215,
     "metadata": {},
     "output_type": "execute_result"
    },
    {
     "data": {
      "text/plain": "<Figure size 2160x720 with 2 Axes>",
      "image/png": "[encoded data removed]"
     },
     "metadata": {
      "needs_background": "light"
     },
     "output_type": "display_data"
    }
   ],
   "source": [
    "import pandas as pd\n",
    "import missingno as msno\n",
    "\n",
    "train_data = pd.read_csv('../data/kaggle/input/titanic/train.csv')\n",
    "%matplotlib inline\n",
    "msno.matrix(prepare_df(all_data).fillna(all_data.mean()).drop(columns=['Cabin']), figsize = (30,10))"
   ],
   "metadata": {
    "collapsed": false,
    "pycharm": {
     "name": "#%%\n"
    }
   }
  },
  {
   "cell_type": "code",
   "execution_count": null,
   "outputs": [],
   "source": [],
   "metadata": {
    "collapsed": false,
    "pycharm": {
     "name": "#%%\n"
    }
   }
  }
 ]
}